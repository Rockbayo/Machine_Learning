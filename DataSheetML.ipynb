{
  "nbformat": 4,
  "nbformat_minor": 0,
  "metadata": {
    "colab": {
      "provenance": [],
      "authorship_tag": "ABX9TyP5mYEuq1+0Ax73YRneM6DC",
      "include_colab_link": true
    },
    "kernelspec": {
      "name": "python3",
      "display_name": "Python 3"
    },
    "language_info": {
      "name": "python"
    }
  },
  "cells": [
    {
      "cell_type": "markdown",
      "metadata": {
        "id": "view-in-github",
        "colab_type": "text"
      },
      "source": [
        "<a href=\"https://colab.research.google.com/github/Rockbayo/Machine_Learning/blob/main/DataSheetML.ipynb\" target=\"_parent\"><img src=\"https://colab.research.google.com/assets/colab-badge.svg\" alt=\"Open In Colab\"/></a>"
      ]
    },
    {
      "cell_type": "code",
      "execution_count": null,
      "metadata": {
        "colab": {
          "base_uri": "https://localhost:8080/"
        },
        "id": "pzuZdzHvlpEY",
        "outputId": "33d25615-5ab3-4983-80c0-29d4281cb67a"
      },
      "outputs": [
        {
          "output_type": "stream",
          "name": "stdout",
          "text": [
            "[1 2 3 4]\n",
            "<class 'numpy.ndarray'>\n",
            "[[1 2 3]\n",
            " [4 5 6]]\n"
          ]
        }
      ],
      "source": [
        "import numpy as np\n",
        "\n",
        "# 1ra matriz\n",
        "arr = np.array([1,2,3,4])\n",
        "print (arr)\n",
        "print (type(arr))\n",
        "\n",
        "# Matriz de2 dimensiones\n",
        "\n",
        "arr2 = np.array([[1,2,3],[4,5,6]])\n",
        "print (arr2)"
      ]
    },
    {
      "cell_type": "code",
      "source": [
        "# Arreglos con valores predeterminados\n",
        "\n",
        "cero = np.zeros(5)\n",
        "print (cero)\n",
        "\n",
        "# Matriz de unos normalizada\n",
        "unos = np.ones((3,3))\n",
        "print (unos)\n",
        "\n",
        "# matriz identidad\n",
        "\n",
        "identidad = np.eye(4)\n",
        "print (identidad)"
      ],
      "metadata": {
        "colab": {
          "base_uri": "https://localhost:8080/"
        },
        "id": "3ThzckDUoJ6q",
        "outputId": "d940d98f-1f5a-4571-cc05-a5de8d43fb00"
      },
      "execution_count": null,
      "outputs": [
        {
          "output_type": "stream",
          "name": "stdout",
          "text": [
            "[0. 0. 0. 0. 0.]\n",
            "[[1. 1. 1.]\n",
            " [1. 1. 1.]\n",
            " [1. 1. 1.]]\n",
            "[[1. 0. 0. 0.]\n",
            " [0. 1. 0. 0.]\n",
            " [0. 0. 1. 0.]\n",
            " [0. 0. 0. 1.]]\n"
          ]
        }
      ]
    },
    {
      "cell_type": "code",
      "source": [
        "# Obtener el dato de la posicion\n",
        "\n",
        "arr = np.array([10,20,30,40,50])\n",
        "\n",
        "# imprimir el dato dela posicion 2\n",
        "print (arr[2])\n",
        "\n",
        "# Imprimir desdela posicion 1 a la 4\n",
        "print (arr[1:4])\n",
        "\n",
        "#Obtener los 3 primeros datos\n",
        "print (arr[:3])\n",
        "\n",
        "# Obtener los últimos  datos del arreglo\n",
        "print (arr[-2:])\n",
        "\n",
        "# No dejar espacios antes del codigo"
      ],
      "metadata": {
        "colab": {
          "base_uri": "https://localhost:8080/"
        },
        "id": "OtaHKuqzpVyP",
        "outputId": "53b8b346-4619-455a-e467-8a2def9f1526"
      },
      "execution_count": null,
      "outputs": [
        {
          "output_type": "stream",
          "name": "stdout",
          "text": [
            "30\n",
            "[20 30 40]\n",
            "[10 20 30]\n",
            "[40 50]\n"
          ]
        }
      ]
    },
    {
      "cell_type": "code",
      "source": [
        "arr = np.array([1,2,3,4])\n",
        "# Sumar 10 a cada elemento del arreglo\n",
        "print (arr + 10)\n",
        "\n",
        "# Multiplica cada elemento\n",
        "print (arr ** 2)\n",
        "\n",
        "# Eleva a la potencia indicada\n",
        "print (arr ** 3)\n",
        "\n",
        "#Funcion Pi\n",
        "piarr = np.array([0,np.pi/2,np.pi])\n",
        "print (piarr)\n",
        "\n",
        "# Funcion Seno\n",
        "print(np.sin(piarr))\n",
        "\n",
        "# Funcion Raiz cuadrada\n",
        "print(np.sqrt(piarr))\n",
        "\n",
        "# Funcion Exponencial\n",
        "print(np.exp(piarr))\n",
        "\n"
      ],
      "metadata": {
        "colab": {
          "base_uri": "https://localhost:8080/"
        },
        "id": "e2thbl0Aq8DZ",
        "outputId": "05e9b51a-929d-44d0-cef6-8d2de7732244"
      },
      "execution_count": null,
      "outputs": [
        {
          "output_type": "stream",
          "name": "stdout",
          "text": [
            "[11 12 13 14]\n",
            "[ 1  4  9 16]\n",
            "[ 1  8 27 64]\n",
            "[0.         1.57079633 3.14159265]\n",
            "[0.0000000e+00 1.0000000e+00 1.2246468e-16]\n",
            "[0.         1.25331414 1.77245385]\n",
            "[ 1.          4.81047738 23.14069263]\n"
          ]
        }
      ]
    },
    {
      "cell_type": "code",
      "source": [
        "# Funciones de Estadistica\n",
        "\n",
        "arr = ([1,2,3,4,5,6])\n",
        "\n",
        "#obtener la media\n",
        "media = np.mean(arr)\n",
        "print (media)\n",
        "\n",
        "# Obtener la mediana\n",
        "mediana = np.median(arr)\n",
        "print (mediana)\n",
        "\n",
        "# Obtener desviacion estandar\n",
        "std = np.std(arr)\n",
        "print(std)\n"
      ],
      "metadata": {
        "colab": {
          "base_uri": "https://localhost:8080/"
        },
        "id": "94h1ErZVtMqq",
        "outputId": "7e5c2765-4efd-4674-c251-eb9881996d56"
      },
      "execution_count": null,
      "outputs": [
        {
          "output_type": "stream",
          "name": "stdout",
          "text": [
            "3.5\n",
            "3.5\n",
            "1.707825127659933\n"
          ]
        }
      ]
    },
    {
      "cell_type": "code",
      "source": [
        "# Transformar arreglos a matrices\n",
        "\n",
        "arr = np.array([1,2,3,4,5,6])\n",
        "\n",
        "# Convertir arreglo en matriz\n",
        "# Variable.reshape ((rowsnumber, colsnumber))\n",
        "matriz = arr.reshape((2,3))\n",
        "print (arr)\n",
        "print (matriz)"
      ],
      "metadata": {
        "colab": {
          "base_uri": "https://localhost:8080/"
        },
        "id": "yF4ZWHM3ucMC",
        "outputId": "2a9d4e86-f08a-4e96-f4e8-c3a237cb9921"
      },
      "execution_count": null,
      "outputs": [
        {
          "output_type": "stream",
          "name": "stdout",
          "text": [
            "[1 2 3 4 5 6]\n",
            "[[1 2 3]\n",
            " [4 5 6]]\n"
          ]
        }
      ]
    }
  ]
}