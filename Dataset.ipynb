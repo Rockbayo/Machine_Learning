{
  "nbformat": 4,
  "nbformat_minor": 0,
  "metadata": {
    "colab": {
      "provenance": [],
      "authorship_tag": "ABX9TyPAI2fkLQv/MJYKkBROAPnb",
      "include_colab_link": true
    },
    "kernelspec": {
      "name": "python3",
      "display_name": "Python 3"
    },
    "language_info": {
      "name": "python"
    }
  },
  "cells": [
    {
      "cell_type": "markdown",
      "metadata": {
        "id": "view-in-github",
        "colab_type": "text"
      },
      "source": [
        "<a href=\"https://colab.research.google.com/github/Rockbayo/Machine_Learning/blob/main/Dataset.ipynb\" target=\"_parent\"><img src=\"https://colab.research.google.com/assets/colab-badge.svg\" alt=\"Open In Colab\"/></a>"
      ]
    },
    {
      "cell_type": "code",
      "source": [
        "import numpy as np\n",
        "\n",
        "print(\"DATASET 13. Análisis de Tiempo de Ejecución en Diferentes Métodos\")\n",
        "\n",
        "# Manipulacion de Arrays\n",
        "# Crear un array Numpy.\n",
        "tiempo = np.array([[10, 12, 11, 9, 14, 8],\n",
        "                   [15, 17, 16, 16, 19, 18],\n",
        "                   [20, 22, 21, 25, 23, 22],\n",
        "                   [2, 0, 1, 5, 3, 2],\n",
        "                   [25, 32, 1, 15, 23, 2],\n",
        "                   [30, 12, 21, 5, 43, 32]])\n",
        "print(tiempo)\n",
        "print(f\"Tamaño de la Matriz: {tiempo.shape}\")\n",
        "print(f\"Numero de Dimensiones: {tiempo.ndim}\")\n",
        "print(f\"Numero de Elementos: {tiempo.size}\")\n",
        "print(f\"Primer Elemento: {tiempo[0, 0]}\")\n",
        "print(f\"Ultimo Elemento: {tiempo[-1, -1]}\")\n",
        "print(f\"Primer Fila: {tiempo[0, :]}\")\n",
        "print(f\"Ultima Columna: {tiempo[:, -1]}\")\n",
        "\n",
        "# Promedio\n",
        "prom = np.mean(tiempo)\n",
        "print(f\"El promedio de los tiempos es:{prom: .2f}\")\n",
        "\n",
        "# Desviacion Estandar\n",
        "devstd = np.std(tiempo)\n",
        "print(f\"La desviacion estandar de los tiempos es: {devstd:.2f}\")\n",
        "\n",
        "# Promedio por metodo\n",
        "metodoA = np.array([10, 12, 11])\n",
        "metodoB = np.array([15, 17, 16])\n",
        "metodoC = np.array([20, 22, 21])\n",
        "\n",
        "promA = np.mean(metodoA)\n",
        "promB = np.mean(metodoB)\n",
        "promC = np.mean(metodoC)\n",
        "print(f\"Promedio de A: {promA}, Promedio de B {promB}, Promedio de C: {promC}\")\n",
        "\n",
        "# Desviacion por Metodo\n",
        "desvA = np.std(metodoA)\n",
        "desvB = np.std(metodoB)\n",
        "desvC = np.std(metodoC)\n",
        "print(f\"Desv_Estandar de A: {desvA:.2f}, Desv_Estandar de B: {desvB:.2f}, Desv_Estandar de C: {desvC:.2f}\")\n",
        "\n",
        "#Mediana\n",
        "mediana = np.median(tiempo)\n",
        "print(f\"La mediana de los tiempos es: {mediana}\")\n",
        "\n",
        "#Varianza\n",
        "varianza = np.var(tiempo)\n",
        "print(f\"La varianza de los tiempos es: {varianza:.2f}\")\n",
        "\n",
        "#Percentiles\n",
        "percentil = np.percentile(tiempo, 50)\n",
        "print(f\"El percentil 50 de los tiempos es: {percentil}\")\n",
        "\n",
        "#Máximo\n",
        "maximo = np.max(tiempo)\n",
        "print(f\"El valor maximo de los tiempos es: {maximo}\")\n",
        "\n",
        "#Mínimo\n",
        "minimo = np.min(tiempo)\n",
        "print(f\"El valor minimo de los tiempos es: {minimo}\")\n",
        "\n",
        "#Rango\n",
        "rango = np.max(tiempo) - np.min(tiempo)\n",
        "print(f\"El rango de los tiempos es: {rango}\")\n",
        "\n",
        "#suma\n",
        "suma = np.sum(tiempo)\n",
        "print(f\"La suma de los tiempos es: {suma}\")\n",
        "\n",
        "#Producto\n",
        "producto = np.prod(tiempo)\n",
        "print(f\"El producto de los tiempos es: {producto}\")\n",
        "\n",
        "#Suma por filas y columnas\n",
        "suma_filas = np.sum(tiempo, axis=0)\n",
        "suma_columnas = np.sum(tiempo, axis=1)\n",
        "print(f\"Suma por filas: {suma_filas}, Suma por columnas: {suma_columnas}\")\n",
        "\n",
        "#Matriz transpuesta\n",
        "transpuesta = np.transpose(tiempo)\n",
        "print(\"Matriz transpuesta:\")\n",
        "print(transpuesta)\n",
        "\n",
        "#Determinante\n",
        "determinante = np.linalg.det(tiempo)\n",
        "print(f\"Determinante de la matriz:{determinante:.0f}\")\n"
      ],
      "metadata": {
        "colab": {
          "base_uri": "https://localhost:8080/"
        },
        "id": "rDDBgu8SRVfE",
        "outputId": "e13b5bc7-b0f0-46c5-d189-5a25dfc2c719"
      },
      "execution_count": 40,
      "outputs": [
        {
          "output_type": "stream",
          "name": "stdout",
          "text": [
            "DATASET 13. Análisis de Tiempo de Ejecución en Diferentes Métodos\n",
            "[[10 12 11  9 14  8]\n",
            " [15 17 16 16 19 18]\n",
            " [20 22 21 25 23 22]\n",
            " [ 2  0  1  5  3  2]\n",
            " [25 32  1 15 23  2]\n",
            " [30 12 21  5 43 32]]\n",
            "Tamaño de la Matriz: (6, 6)\n",
            "Numero de Dimensiones: 2\n",
            "Numero de Elementos: 36\n",
            "Primer Elemento: 10\n",
            "Ultimo Elemento: 32\n",
            "Primer Fila: [10 12 11  9 14  8]\n",
            "Ultima Columna: [ 8 18 22  2  2 32]\n",
            "El promedio de los tiempos es: 15.33\n",
            "La desviacion estandar de los tiempos es: 10.21\n",
            "Promedio de A: 11.0, Promedio de B 16.0, Promedio de C: 21.0\n",
            "Desv_Estandar de A: 0.82, Desv_Estandar de B: 0.82, Desv_Estandar de C: 0.82\n",
            "La mediana de los tiempos es: 15.5\n",
            "La varianza de los tiempos es: 104.17\n",
            "El percentil 50 de los tiempos es: 15.5\n",
            "El valor maximo de los tiempos es: 43\n",
            "El valor minimo de los tiempos es: 0\n",
            "El rango de los tiempos es: 43\n",
            "La suma de los tiempos es: 552\n",
            "El producto de los tiempos es: 0\n",
            "Suma por filas: [102  95  71  75 125  84], Suma por columnas: [ 64 101 133  13  98 143]\n",
            "Matriz transpuesta:\n",
            "[[10 15 20  2 25 30]\n",
            " [12 17 22  0 32 12]\n",
            " [11 16 21  1  1 21]\n",
            " [ 9 16 25  5 15  5]\n",
            " [14 19 23  3 23 43]\n",
            " [ 8 18 22  2  2 32]]\n",
            "Determinante de la matriz:-657800\n"
          ]
        }
      ]
    },
    {
      "cell_type": "code",
      "source": [],
      "metadata": {
        "id": "YaiiW22ZazXJ"
      },
      "execution_count": null,
      "outputs": []
    }
  ]
}