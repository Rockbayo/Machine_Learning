{
  "nbformat": 4,
  "nbformat_minor": 0,
  "metadata": {
    "colab": {
      "provenance": [],
      "authorship_tag": "ABX9TyNF4/UJum+nq5yfDHoOlBrh",
      "include_colab_link": true
    },
    "kernelspec": {
      "name": "python3",
      "display_name": "Python 3"
    },
    "language_info": {
      "name": "python"
    }
  },
  "cells": [
    {
      "cell_type": "markdown",
      "metadata": {
        "id": "view-in-github",
        "colab_type": "text"
      },
      "source": [
        "<a href=\"https://colab.research.google.com/github/Rockbayo/Machine_Learning/blob/main/Dataset.ipynb\" target=\"_parent\"><img src=\"https://colab.research.google.com/assets/colab-badge.svg\" alt=\"Open In Colab\"/></a>"
      ]
    },
    {
      "cell_type": "code",
      "source": [
        "import numpy as np\n",
        "\n",
        "# Manipulacion de Arrays\n",
        "# Crear un array Numpy.\n",
        "tiempo = np.array([[10, 12, 11], [15, 17, 16], [20, 22, 21]])\n",
        "print(tiempo)\n",
        "print(f\"Tamaño de la Matriz: {tiempo.shape}\")\n",
        "print(f\"Numero de Dimensiones: {tiempo.ndim}\")\n",
        "print(f\"Numero de Elementos: {tiempo.size}\")\n",
        "print(f\"Primer Elemento: {tiempo[0, 0]}\")\n",
        "print(f\"Ultimo Elemento: {tiempo[-1, -1]}\")\n",
        "print(f\"Primer Fila: {tiempo[0, :]}\")\n",
        "print(f\"Ultima Columna: {tiempo[:, -1]}\")\n",
        "\n",
        "# Promedio\n",
        "prom = np.mean(tiempo)\n",
        "print(\"El promedio de los tiempos es:\", prom)\n",
        "\n",
        "# Desviacion Estandar\n",
        "devstd = np.std(tiempo)\n",
        "print(f\"La desviacion estandar de los tiempos es: {devstd:.2f}\")\n",
        "\n",
        "# Promedio por metodo\n",
        "metodoA = np.array([10, 12, 11])\n",
        "metodoB = np.array([15, 17, 16])\n",
        "metodoC = np.array([20, 22, 21])\n",
        "\n",
        "promA = np.mean(metodoA)\n",
        "promB = np.mean(metodoB)\n",
        "promC = np.mean(metodoC)\n",
        "print(f\"Promedio de A: {promA}, Promedio de B {promB}, Promedio de C: {promC}\")\n",
        "\n",
        "# Desviacion por Metodo\n",
        "desvA = np.std(metodoA)\n",
        "desvB = np.std(metodoB)\n",
        "desvC = np.std(metodoC)\n",
        "print(f\"Desv_Estandar de A: {desvA:.2f}, Desv_Estandar de B: {desvB:.2f}, Desv_Estandar de C: {desvC:.2f}\")\n",
        "\n",
        "#Mediana\n",
        "mediana = np.median(tiempo)\n",
        "print(f\"La mediana de los tiempos es: {mediana}\")\n",
        "\n",
        "#Varianza\n",
        "varianza = np.var(tiempo)\n",
        "print(f\"La varianza de los tiempos es: {varianza:.2f}\")\n",
        "\n",
        "#Percentiles\n",
        "percentil = np.percentile(tiempo, 50)\n",
        "print(f\"El percentil 50 de los tiempos es: {percentil}\")\n",
        "\n",
        "#Máximo\n",
        "maximo = np.max(tiempo)\n",
        "print(f\"El valor maximo de los tiempos es: {maximo}\")\n",
        "\n",
        "#Mínimo\n",
        "minimo = np.min(tiempo)\n",
        "print(f\"El valor minimo de los tiempos es: {minimo}\")\n",
        "\n",
        "#Rango\n",
        "rango = np.max(tiempo) - np.min(tiempo)\n",
        "print(f\"El rango de los tiempos es: {rango}\")\n",
        "\n",
        "#suma\n",
        "suma = np.sum(tiempo)\n",
        "print(f\"La suma de los tiempos es: {suma}\")\n",
        "\n",
        "#Producto\n",
        "producto = np.prod(tiempo)\n",
        "print(f\"El producto de los tiempos es: {producto}\")\n",
        "\n",
        "#Suma por filas y columnas\n",
        "suma_filas = np.sum(tiempo, axis=0)\n",
        "suma_columnas = np.sum(tiempo, axis=1)\n",
        "print(\"Suma por filas:\", suma_filas)\n",
        "print(\"Suma por columnas:\", suma_columnas)\n",
        "\n",
        "#Matriz transpuesta\n",
        "transpuesta = np.transpose(tiempo)\n",
        "print(\"Matriz transpuesta:\")\n",
        "print(transpuesta)\n",
        "\n",
        "#Determinante\n",
        "determinante = np.linalg.det(tiempo)\n",
        "print(\"Determinante de la matriz:\")\n",
        "print(determinante)\n",
        "\n"
      ],
      "metadata": {
        "colab": {
          "base_uri": "https://localhost:8080/"
        },
        "id": "rDDBgu8SRVfE",
        "outputId": "ecc9ac95-bedc-41d5-de44-b9a666f454cb"
      },
      "execution_count": 28,
      "outputs": [
        {
          "output_type": "stream",
          "name": "stdout",
          "text": [
            "[[10 12 11]\n",
            " [15 17 16]\n",
            " [20 22 21]]\n",
            "Tamaño de la Matriz: (3, 3)\n",
            "Numero de Dimensiones: 2\n",
            "Numero de Elementos: 9\n",
            "Primer Elemento: 10\n",
            "Ultimo Elemento: 21\n",
            "Primer Fila: [10 12 11]\n",
            "Ultima Columna: [11 16 21]\n",
            "El promedio de los tiempos es: 16.0\n",
            "La desviacion estandar de los tiempos es: 4.16\n",
            "Promedio de A: 11.0, Promedio de B 16.0, Promedio de C: 21.0\n",
            "Desv_Estandar de A: 0.82, Desv_Estandar de B: 0.82, Desv_Estandar de C: 0.82\n",
            "La mediana de los tiempos es: 16.0\n",
            "La varianza de los tiempos es: 17.33\n",
            "El percentil 50 de los tiempos es: 16.0\n",
            "El valor maximo de los tiempos es: 22\n",
            "El valor minimo de los tiempos es: 10\n",
            "El rango de los tiempos es: 12\n",
            "La suma de los tiempos es: 144\n",
            "El producto de los tiempos es: 49762944000\n",
            "Suma por filas: [45 51 48]\n",
            "Suma por columnas: [33 48 63]\n",
            "Matriz transpuesta:\n",
            "[[10 15 20]\n",
            " [12 17 22]\n",
            " [11 16 21]]\n",
            "Determinante de la matriz:\n",
            "0.0\n"
          ]
        }
      ]
    },
    {
      "cell_type": "code",
      "source": [],
      "metadata": {
        "id": "YaiiW22ZazXJ"
      },
      "execution_count": null,
      "outputs": []
    }
  ]
}